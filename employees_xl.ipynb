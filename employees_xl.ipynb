{
 "cells": [
  {
   "cell_type": "code",
   "execution_count": 1,
   "metadata": {},
   "outputs": [],
   "source": [
    "from pathlib import Path\n",
    "import pandas as pd\n",
    "from openpyxl.formatting.rule import CellIsRule\n",
    "from openpyxl import load_workbook\n",
    "from openpyxl.styles import Alignment, PatternFill, colors, Border, Side, Font"
   ]
  },
  {
   "cell_type": "code",
   "execution_count": 2,
   "metadata": {},
   "outputs": [],
   "source": [
    "# columns starting from Column A\n",
    "FINAL_COLUMNS = [\n",
    "    'No.', 'ID', 'First Name', 'Last Name',\n",
    "    'Department', 'Business Unit', 'Job Title',\n",
    "    'Gender', 'Ethnicity', 'Age',\n",
    "    'Country', 'City', 'Hire Date',\n",
    "    'Annual Salary', 'Exit Date'\n",
    "]\n",
    "\n",
    "root = Path().cwd()\n",
    "new = root / 'new_data'\n",
    "new.mkdir(exist_ok=True)"
   ]
  },
  {
   "cell_type": "code",
   "execution_count": 3,
   "metadata": {},
   "outputs": [],
   "source": [
    "df = pd.read_excel('Employee Sample.xlsx', engine='openpyxl')\n",
    "# rename columns\n",
    "df.rename(columns={\n",
    "    'EEID': 'ID'\n",
    "}, inplace=True)"
   ]
  },
  {
   "cell_type": "code",
   "execution_count": 4,
   "metadata": {},
   "outputs": [],
   "source": [
    "FIRST_NAME = []\n",
    "LAST_NAME = []\n",
    "\n",
    "# split full name to first and last name\n",
    "fu_name_list = df[\"Full Name\"].to_list()\n",
    "for name in fu_name_list:\n",
    "    f_name = name.split(\" \")[0]\n",
    "    FIRST_NAME.append(f_name)\n",
    "    l_name = name.split(\" \")[1]\n",
    "    LAST_NAME.append(l_name)\n",
    "\n",
    "df.drop(columns=['Full Name', 'Bonus %'], inplace=True, errors='ignore')"
   ]
  },
  {
   "cell_type": "code",
   "execution_count": 5,
   "metadata": {},
   "outputs": [],
   "source": [
    "f_name_series = pd.Series(FIRST_NAME, name='First Name')\n",
    "l_name_series = pd.Series(LAST_NAME, name='Last Name')\n",
    "index_no = pd.Series(range(1, len(df)+1), name='No.')\n",
    "\n",
    "df = df.join(f_name_series)\n",
    "df = df.join(l_name_series)\n",
    "df = df.join(index_no)\n",
    "df = df.reindex(columns=FINAL_COLUMNS)\n",
    "\n",
    "df.to_excel('Employee Data Sample.xlsx', sheet_name='Employee Data', index=False)"
   ]
  },
  {
   "cell_type": "code",
   "execution_count": 6,
   "metadata": {},
   "outputs": [],
   "source": [
    "# openpyxl\n",
    "wb = load_workbook('Employee Data Sample.xlsx')\n",
    "sheet = wb[wb.sheetnames[0]]\n",
    "sheet.freeze_panes = 'A2'\n"
   ]
  },
  {
   "cell_type": "code",
   "execution_count": 7,
   "metadata": {},
   "outputs": [],
   "source": [
    "# openpyxl.styles\n",
    "font_ = Font(name='Times New Roman',\n",
    "             size=12,\n",
    "             bold=sheet[1],\n",
    "             color=colors.Color(\"00003366\")\n",
    "             )\n",
    "\n",
    "fill_ = PatternFill(fgColor=colors.Color(\"00FFFFCC\"),\n",
    "                    patternType=\"solid\"\n",
    "                    )\n",
    "\n",
    "redFill = PatternFill(start_color='FFAAAA', end_color='FFAAAA', patternType='solid')\n",
    "\n",
    "border_ = Border(left=Side(style='thin'),\n",
    "                 right=Side(style='thin'),\n",
    "                 top=Side(style='thin'),\n",
    "                 bottom=Side(style='thin')\n",
    "                 )\n",
    "\n",
    "alignment_ = Alignment(horizontal='general',\n",
    "                       vertical='center'\n",
    "                       )"
   ]
  },
  {
   "cell_type": "code",
   "execution_count": 8,
   "metadata": {},
   "outputs": [],
   "source": [
    "for idx, cell in enumerate(sheet[1], 1):\n",
    "    cell.fill = fill_\n",
    "    cell.font = font_\n",
    "    cell.border = border_\n",
    "    cell.alignment = alignment_\n"
   ]
  },
  {
   "cell_type": "code",
   "execution_count": 9,
   "metadata": {},
   "outputs": [],
   "source": [
    "# align cell dimensions and formatting\n",
    "as_col_letter = []\n",
    "\n",
    "for col in sheet.iter_cols():\n",
    "    first_cell = col[0]\n",
    "    column_letter = first_cell.column_letter\n",
    "    column_name = str(first_cell.value).lower()\n",
    "\n",
    "    if column_name in ['first name', 'last name']:\n",
    "        sheet.column_dimensions[column_letter].width = 13\n",
    "    elif column_name in ['no.', 'age']:\n",
    "        sheet.column_dimensions[column_letter].width = 9\n",
    "        for cell in col:\n",
    "            cell.alignment = Alignment(horizontal='center', vertical='center')\n",
    "    elif column_name in ['hire date', 'exit date']:\n",
    "        sheet.column_dimensions[column_letter].width = 11\n",
    "        for cell in col:\n",
    "            cell.number_format = 'dd/mm/yyyy'\n",
    "            cell.alignment = Alignment(horizontal='left', vertical='center')\n",
    "    elif column_name in ['annual salary']:\n",
    "        as_col_letter.append(column_letter)\n",
    "        sheet.column_dimensions[column_letter].width = 13\n",
    "        for cell in col:\n",
    "            cell.number_format = '$#,###'\n",
    "            cell.alignment = Alignment(horizontal='right', vertical='center')\n"
   ]
  },
  {
   "cell_type": "code",
   "execution_count": 10,
   "metadata": {},
   "outputs": [],
   "source": [
    "# conditional formatting for Annual Salary above $200,000\n",
    "sheet.conditional_formatting.add(f\"{as_col_letter[0]}2:{as_col_letter[0]}{len(df) + 1}\",\n",
    "    CellIsRule(operator='greaterThan', formula=['200000'], fill=redFill)\n",
    ")"
   ]
  },
  {
   "cell_type": "code",
   "execution_count": 11,
   "metadata": {},
   "outputs": [],
   "source": [
    "# save workbook\n",
    "wb.save(new.joinpath('Employee Data Sample.xlsx'))"
   ]
  }
 ],
 "metadata": {
  "kernelspec": {
   "display_name": "Python 3",
   "language": "python",
   "name": "python3"
  },
  "language_info": {
   "codemirror_mode": {
    "name": "ipython",
    "version": 3
   },
   "file_extension": ".py",
   "mimetype": "text/x-python",
   "name": "python",
   "nbconvert_exporter": "python",
   "pygments_lexer": "ipython3",
   "version": "3.9.6"
  },
  "orig_nbformat": 4,
  "vscode": {
   "interpreter": {
    "hash": "aee8b7b246df8f9039afb4144a1f6fd8d2ca17a180786b69acc140d282b71a49"
   }
  }
 },
 "nbformat": 4,
 "nbformat_minor": 2
}
